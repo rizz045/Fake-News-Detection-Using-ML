{
  "nbformat": 4,
  "nbformat_minor": 0,
  "metadata": {
    "colab": {
      "provenance": []
    },
    "kernelspec": {
      "name": "python3",
      "display_name": "Python 3"
    },
    "language_info": {
      "name": "python"
    }
  },
  "cells": [
    {
      "cell_type": "markdown",
      "source": [
        "**Column Details:**\n",
        "* **title :** Contains the title of the article or news.\n",
        "* **text :** This column has the actual written news\n",
        "* **subject :** Points whether it is a news or politics etc\n",
        "* **date :** Represents the date of publishing the article\n",
        "* **class :** Target class representing 1 for fake news 0 for genuine new."
      ],
      "metadata": {
        "id": "h6WOmMr3axtX"
      }
    },
    {
      "cell_type": "code",
      "execution_count": 1,
      "metadata": {
        "id": "Wa-xyzwpaty1"
      },
      "outputs": [],
      "source": [
        "# importing important libraries\n",
        "import pandas as pd\n",
        "import numpy as np\n",
        "import matplotlib.pyplot as plt\n",
        "import seaborn as sns"
      ]
    },
    {
      "cell_type": "code",
      "source": [
        "df = pd.read_csv(\"contents/News.csv\")\n",
        "df.head()"
      ],
      "metadata": {
        "id": "vXcVhBAwGeh3"
      },
      "execution_count": null,
      "outputs": []
    }
  ]
}